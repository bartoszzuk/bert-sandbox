{
 "cells": [
  {
   "cell_type": "code",
   "execution_count": 1,
   "metadata": {
    "gradient": {
     "editing": false
    }
   },
   "outputs": [
    {
     "name": "stdout",
     "output_type": "stream",
     "text": [
      "\u001b[33mWARNING: You are using pip version 20.2.4; however, version 21.2.4 is available.\n",
      "You should consider upgrading via the '/usr/bin/python3 -m pip install --upgrade pip' command.\u001b[0m\n"
     ]
    }
   ],
   "source": [
    "!pip install -q --upgrade --use-feature=2020-resolver datasets sklearn transformers==4.5.0"
   ]
  },
  {
   "cell_type": "code",
   "execution_count": 2,
   "metadata": {
    "gradient": {
     "editing": false
    }
   },
   "outputs": [],
   "source": [
    "import datasets\n",
    "\n",
    "STORAGE_PATH = '/storage/imdb'\n",
    "\n",
    "train = datasets.load_from_disk(f'{STORAGE_PATH}/train')\n",
    "validation = datasets.load_from_disk(f'{STORAGE_PATH}/validation')\n",
    "test = datasets.load_from_disk(f'{STORAGE_PATH}/test')"
   ]
  },
  {
   "cell_type": "code",
   "execution_count": 3,
   "metadata": {},
   "outputs": [
    {
     "name": "stdout",
     "output_type": "stream",
     "text": [
      "--- Target distribution ---\n",
      "\n",
      "Label 1 - 50.41% (4726) of examples\n",
      "Label 0 - 49.59% (4649) of examples\n",
      "\n",
      "Total size: 9375\n"
     ]
    }
   ],
   "source": [
    "from datasets.arrow_dataset import Dataset\n",
    "\n",
    "\n",
    "def report_target_distribution(dataset: Dataset):\n",
    "    frame = dataset.to_pandas()\n",
    "    counts = dict(frame['label'].value_counts())\n",
    "    size = len(dataset)\n",
    "    \n",
    "    print('--- Target distribution ---\\n')\n",
    "    for label, count in counts.items():\n",
    "        print(f'Label {label} - {count / size * 100:.2f}% ({count}) of examples')\n",
    "    print(f'\\nTotal size: {size}')\n",
    "    \n",
    "report_target_distribution(validation)"
   ]
  },
  {
   "cell_type": "code",
   "execution_count": 4,
   "metadata": {
    "gradient": {
     "editing": false
    }
   },
   "outputs": [
    {
     "name": "stderr",
     "output_type": "stream",
     "text": [
      "Some weights of the model checkpoint at bert-base-uncased were not used when initializing BertForSequenceClassification: ['cls.predictions.bias', 'cls.predictions.transform.dense.weight', 'cls.predictions.transform.dense.bias', 'cls.predictions.decoder.weight', 'cls.seq_relationship.weight', 'cls.seq_relationship.bias', 'cls.predictions.transform.LayerNorm.weight', 'cls.predictions.transform.LayerNorm.bias']\n",
      "- This IS expected if you are initializing BertForSequenceClassification from the checkpoint of a model trained on another task or with another architecture (e.g. initializing a BertForSequenceClassification model from a BertForPreTraining model).\n",
      "- This IS NOT expected if you are initializing BertForSequenceClassification from the checkpoint of a model that you expect to be exactly identical (initializing a BertForSequenceClassification model from a BertForSequenceClassification model).\n",
      "Some weights of BertForSequenceClassification were not initialized from the model checkpoint at bert-base-uncased and are newly initialized: ['classifier.weight', 'classifier.bias']\n",
      "You should probably TRAIN this model on a down-stream task to be able to use it for predictions and inference.\n"
     ]
    }
   ],
   "source": [
    "from transformers import AutoModelForSequenceClassification, AutoTokenizer\n",
    "\n",
    "tokenizer = AutoTokenizer.from_pretrained('bert-base-uncased')\n",
    "model = AutoModelForSequenceClassification.from_pretrained('bert-base-uncased')"
   ]
  },
  {
   "cell_type": "code",
   "execution_count": 5,
   "metadata": {
    "gradient": {
     "editing": false
    }
   },
   "outputs": [],
   "source": [
    "from transformers.tokenization_utils import PaddingStrategy\n",
    "\n",
    "\n",
    "def tokenize(review: str, label: int, max_length: int = 512) -> dict:\n",
    "    return tokenizer(\n",
    "      text=review,\n",
    "      max_length=max_length,\n",
    "      truncation=True,\n",
    "      padding=PaddingStrategy.MAX_LENGTH,\n",
    "      return_token_type_ids=False\n",
    "    )\n",
    "\n",
    "\n",
    "def remove_text_column(dataset: Dataset) -> Dataset:\n",
    "    return dataset.remove_columns(['text'])\n",
    "\n",
    "\n",
    "def preprocess(dataset: Dataset, tokenize: AutoTokenizer) -> Dataset:\n",
    "    columns = list(dataset.features.keys())\n",
    "    dataset = dataset.map(tokenize, input_columns=columns, batched=True)\n",
    "\n",
    "    new_columns = list(dataset.features.keys() ^ columns)\n",
    "    dataset.set_format('torch', columns=new_columns, output_all_columns=True)\n",
    "    datset = remove_text_column(dataset)\n",
    "    \n",
    "    return dataset"
   ]
  },
  {
   "cell_type": "code",
   "execution_count": 6,
   "metadata": {
    "gradient": {
     "editing": false
    }
   },
   "outputs": [],
   "source": [
    "train = train.select(range(20))\n",
    "validation = validation.select(range(10))\n",
    "test = test.select(range(20))"
   ]
  },
  {
   "cell_type": "code",
   "execution_count": 7,
   "metadata": {
    "gradient": {
     "editing": false
    }
   },
   "outputs": [
    {
     "name": "stderr",
     "output_type": "stream",
     "text": [
      "Loading cached processed dataset at /storage/imdb/train/cache-db6aaa155697bacc.arrow\n",
      "Loading cached processed dataset at /storage/imdb/validation/cache-18f6abb5461754cd.arrow\n",
      "Loading cached processed dataset at /storage/imdb/test/cache-2b1244c5930c2bba.arrow\n"
     ]
    }
   ],
   "source": [
    "train = preprocess(train, tokenize=tokenize)\n",
    "validation = preprocess(validation, tokenize=tokenize)\n",
    "test = preprocess(test, tokenize=tokenize)"
   ]
  },
  {
   "cell_type": "code",
   "execution_count": 8,
   "metadata": {
    "gradient": {
     "editing": false
    }
   },
   "outputs": [],
   "source": [
    "import numpy as np\n",
    "from datasets import load_metric\n",
    "\n",
    "accuracy = load_metric('accuracy')\n",
    "\n",
    "def compute_metrics(outputs):\n",
    "    logits, labels = outputs\n",
    "    predictions = np.argmax(logits, axis=-1)\n",
    "    return accuracy.compute(predictions=predictions, references=labels)"
   ]
  },
  {
   "cell_type": "code",
   "execution_count": 14,
   "metadata": {
    "gradient": {
     "editing": false
    }
   },
   "outputs": [],
   "source": [
    "from transformers import Trainer, TrainingArguments\n",
    "from datetime import datetime\n",
    "\n",
    "DATE = datetime.now().strftime(\"%d-%m-%y\")\n",
    "MODEL_PATH = '/storage/models'\n",
    "\n",
    "\n",
    "arguments = TrainingArguments(\n",
    "    output_dir=f'{MODEL_PATH}/model-{DATE}',\n",
    "    num_train_epochs=3,\n",
    "    learning_rate=2e-5,\n",
    "    evaluation_strategy='epoch',\n",
    "    logging_strategy='epoch'\n",
    ")\n",
    "\n",
    "trainer = Trainer(\n",
    "    model=model,\n",
    "    tokenizer=tokenizer,\n",
    "    args=arguments,\n",
    "    train_dataset=train,\n",
    "    eval_dataset=validation,\n",
    "    compute_metrics=compute_metrics\n",
    ")"
   ]
  },
  {
   "cell_type": "code",
   "execution_count": 16,
   "metadata": {
    "gradient": {
     "editing": false
    }
   },
   "outputs": [
    {
     "data": {
      "text/html": [
       "\n",
       "    <div>\n",
       "        <style>\n",
       "            /* Turns off some styling */\n",
       "            progress {\n",
       "                /* gets rid of default border in Firefox and Opera. */\n",
       "                border: none;\n",
       "                /* Needs to be in here for Safari polyfill so background images work as expected. */\n",
       "                background-size: auto;\n",
       "            }\n",
       "        </style>\n",
       "      \n",
       "      <progress value='9' max='9' style='width:300px; height:20px; vertical-align: middle;'></progress>\n",
       "      [9/9 00:04, Epoch 3/3]\n",
       "    </div>\n",
       "    <table border=\"1\" class=\"dataframe\">\n",
       "  <thead>\n",
       "    <tr style=\"text-align: left;\">\n",
       "      <th>Epoch</th>\n",
       "      <th>Training Loss</th>\n",
       "      <th>Validation Loss</th>\n",
       "      <th>Accuracy</th>\n",
       "      <th>Runtime</th>\n",
       "      <th>Samples Per Second</th>\n",
       "    </tr>\n",
       "  </thead>\n",
       "  <tbody>\n",
       "    <tr>\n",
       "      <td>1</td>\n",
       "      <td>0.317200</td>\n",
       "      <td>0.870007</td>\n",
       "      <td>0.500000</td>\n",
       "      <td>0.264700</td>\n",
       "      <td>37.779000</td>\n",
       "    </tr>\n",
       "    <tr>\n",
       "      <td>2</td>\n",
       "      <td>0.324300</td>\n",
       "      <td>0.870007</td>\n",
       "      <td>0.500000</td>\n",
       "      <td>0.263000</td>\n",
       "      <td>38.028000</td>\n",
       "    </tr>\n",
       "    <tr>\n",
       "      <td>3</td>\n",
       "      <td>0.333800</td>\n",
       "      <td>0.870007</td>\n",
       "      <td>0.500000</td>\n",
       "      <td>0.266700</td>\n",
       "      <td>37.501000</td>\n",
       "    </tr>\n",
       "  </tbody>\n",
       "</table><p>"
      ],
      "text/plain": [
       "<IPython.core.display.HTML object>"
      ]
     },
     "metadata": {},
     "output_type": "display_data"
    },
    {
     "ename": "AttributeError",
     "evalue": "'Dataset' object has no attribute 'predict'",
     "output_type": "error",
     "traceback": [
      "\u001b[0;31m---------------------------------------------------------------------------\u001b[0m",
      "\u001b[0;31mAttributeError\u001b[0m                            Traceback (most recent call last)",
      "\u001b[0;32m<ipython-input-16-2c84e45acc26>\u001b[0m in \u001b[0;36m<module>\u001b[0;34m\u001b[0m\n\u001b[1;32m      1\u001b[0m \u001b[0mtrain_outputs\u001b[0m \u001b[0;34m=\u001b[0m \u001b[0mtrainer\u001b[0m\u001b[0;34m.\u001b[0m\u001b[0mtrain\u001b[0m\u001b[0;34m(\u001b[0m\u001b[0;34m)\u001b[0m\u001b[0;34m\u001b[0m\u001b[0;34m\u001b[0m\u001b[0m\n\u001b[0;32m----> 2\u001b[0;31m \u001b[0mtest_outputs\u001b[0m \u001b[0;34m=\u001b[0m \u001b[0mtest\u001b[0m\u001b[0;34m.\u001b[0m\u001b[0mpredict\u001b[0m\u001b[0;34m(\u001b[0m\u001b[0mtest\u001b[0m\u001b[0;34m)\u001b[0m\u001b[0;34m\u001b[0m\u001b[0;34m\u001b[0m\u001b[0m\n\u001b[0m",
      "\u001b[0;31mAttributeError\u001b[0m: 'Dataset' object has no attribute 'predict'"
     ]
    }
   ],
   "source": [
    "train_outputs = trainer.train()\n",
    "test_outputs = trainer.predict(test)"
   ]
  },
  {
   "cell_type": "code",
   "execution_count": null,
   "metadata": {},
   "outputs": [],
   "source": [
    "from sklearn.metrics import classification_report\n",
    "\n",
    "logits = test_outputs"
   ]
  }
 ],
 "metadata": {
  "kernelspec": {
   "display_name": "Python 3",
   "language": "python",
   "name": "python3"
  },
  "language_info": {
   "codemirror_mode": {
    "name": "ipython",
    "version": 3
   },
   "file_extension": ".py",
   "mimetype": "text/x-python",
   "name": "python",
   "nbconvert_exporter": "python",
   "pygments_lexer": "ipython3",
   "version": "3.6.9"
  }
 },
 "nbformat": 4,
 "nbformat_minor": 4
}
